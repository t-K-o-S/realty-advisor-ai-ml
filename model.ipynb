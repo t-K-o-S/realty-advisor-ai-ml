{
 "cells": [
  {
   "cell_type": "code",
   "execution_count": 1,
   "metadata": {},
   "outputs": [],
   "source": [
    "# Import libraries\n",
    "import torch\n",
    "import torch.nn as nn\n",
    "import torch.optim as optim\n",
    "import pandas as pd\n",
    "import numpy as np\n",
    "from sklearn.model_selection import train_test_split\n",
    "from sklearn import metrics\n"
   ]
  },
  {
   "cell_type": "code",
   "execution_count": 2,
   "metadata": {},
   "outputs": [],
   "source": [
    "# Select the device to use for processing\n",
    "device = torch.device(\"cuda\" if torch.cuda.is_available() else \"cpu\")\n"
   ]
  },
  {
   "cell_type": "code",
   "execution_count": 3,
   "metadata": {},
   "outputs": [],
   "source": [
    "# Load the preprocessed data\n",
    "data = pd.read_csv(\"datasets/train_dataset.csv\")\n"
   ]
  },
  {
   "cell_type": "code",
   "execution_count": 4,
   "metadata": {},
   "outputs": [],
   "source": [
    "# Split features and target variable\n",
    "X = data.drop(\"Price\", axis=1).values\n",
    "y = data[\"Price\"].values\n"
   ]
  },
  {
   "cell_type": "code",
   "execution_count": 5,
   "metadata": {},
   "outputs": [],
   "source": [
    "# Split data into training and testing sets\n",
    "X_train, X_test, y_train, y_test = train_test_split(X, y, test_size=0.2)\n"
   ]
  },
  {
   "cell_type": "code",
   "execution_count": 6,
   "metadata": {},
   "outputs": [],
   "source": [
    "# Convert data to PyTorch tensors\n",
    "X_train_tensor = torch.tensor(X_train, dtype=torch.float32).to(device)\n",
    "y_train_tensor = torch.tensor(y_train, dtype=torch.float32).to(device)\n",
    "X_test_tensor = torch.tensor(X_test, dtype=torch.float32).to(device)\n",
    "y_test_tensor = torch.tensor(y_test, dtype=torch.float32).to(device)\n"
   ]
  },
  {
   "cell_type": "code",
   "execution_count": 7,
   "metadata": {},
   "outputs": [],
   "source": [
    "# Define the neural network model\n",
    "class HousePriceModel(nn.Module):\n",
    "    def __init__(self, input_size):\n",
    "        super(HousePriceModel, self).__init__()\n",
    "        self.fc1 = nn.Linear(17, 17)\n",
    "        self.fc2 = nn.Linear(17, 17)\n",
    "        self.fc3 = nn.Linear(17, 17)\n",
    "        self.fc4 = nn.Linear(17, 17)\n",
    "        self.fc5 = nn.Linear(17, 1)\n",
    "\n",
    "    def forward(self, x):\n",
    "        x = torch.relu(self.fc1(x))\n",
    "        x = torch.relu(self.fc2(x))\n",
    "        x = torch.relu(self.fc3(x))\n",
    "        x = torch.relu(self.fc4(x))\n",
    "        x = self.fc5(x)\n",
    "        return x\n",
    "    "
   ]
  },
  {
   "cell_type": "code",
   "execution_count": 8,
   "metadata": {},
   "outputs": [],
   "source": [
    "# Instantiate the model\n",
    "input_size = X_train.shape[1]\n",
    "model = HousePriceModel(input_size).to(device)\n"
   ]
  },
  {
   "cell_type": "code",
   "execution_count": 9,
   "metadata": {},
   "outputs": [],
   "source": [
    "# Define loss function and optimization algorithm\n",
    "criterion = nn.MSELoss()\n",
    "optimizer = optim.Adam(model.parameters())\n"
   ]
  },
  {
   "cell_type": "code",
   "execution_count": 10,
   "metadata": {},
   "outputs": [
    {
     "name": "stdout",
     "output_type": "stream",
     "text": [
      "Epoch [100/10000], Loss: 335257075712.0000\n",
      "Epoch [200/10000], Loss: 157988651008.0000\n",
      "Epoch [300/10000], Loss: 74021191680.0000\n",
      "Epoch [400/10000], Loss: 70897893376.0000\n",
      "Epoch [500/10000], Loss: 68692643840.0000\n",
      "Epoch [600/10000], Loss: 66827210752.0000\n",
      "Epoch [700/10000], Loss: 65269497856.0000\n",
      "Epoch [800/10000], Loss: 64102797312.0000\n",
      "Epoch [900/10000], Loss: 63303528448.0000\n",
      "Epoch [1000/10000], Loss: 62780981248.0000\n",
      "Epoch [1100/10000], Loss: 62450888704.0000\n",
      "Epoch [1200/10000], Loss: 62234677248.0000\n",
      "Epoch [1300/10000], Loss: 62067769344.0000\n",
      "Epoch [1400/10000], Loss: 61905997824.0000\n",
      "Epoch [1500/10000], Loss: 61686804480.0000\n",
      "Epoch [1600/10000], Loss: 61388201984.0000\n",
      "Epoch [1700/10000], Loss: 61026447360.0000\n",
      "Epoch [1800/10000], Loss: 60529348608.0000\n",
      "Epoch [1900/10000], Loss: 59930664960.0000\n",
      "Epoch [2000/10000], Loss: 59187048448.0000\n",
      "Epoch [2100/10000], Loss: 58293411840.0000\n",
      "Epoch [2200/10000], Loss: 57271734272.0000\n",
      "Epoch [2300/10000], Loss: 56182091776.0000\n",
      "Epoch [2400/10000], Loss: 55137800192.0000\n",
      "Epoch [2500/10000], Loss: 54248300544.0000\n",
      "Epoch [2600/10000], Loss: 53640691712.0000\n",
      "Epoch [2700/10000], Loss: 53307637760.0000\n",
      "Epoch [2800/10000], Loss: 53080076288.0000\n",
      "Epoch [2900/10000], Loss: 52729487360.0000\n",
      "Epoch [3000/10000], Loss: 52423241728.0000\n",
      "Epoch [3100/10000], Loss: 52131278848.0000\n",
      "Epoch [3200/10000], Loss: 51861553152.0000\n",
      "Epoch [3300/10000], Loss: 51585064960.0000\n",
      "Epoch [3400/10000], Loss: 51201712128.0000\n",
      "Epoch [3500/10000], Loss: 50352287744.0000\n",
      "Epoch [3600/10000], Loss: 49288413184.0000\n",
      "Epoch [3700/10000], Loss: 48396574720.0000\n",
      "Epoch [3800/10000], Loss: 47771529216.0000\n",
      "Epoch [3900/10000], Loss: 47335276544.0000\n",
      "Epoch [4000/10000], Loss: 47002460160.0000\n",
      "Epoch [4100/10000], Loss: 46733549568.0000\n",
      "Epoch [4200/10000], Loss: 46484815872.0000\n",
      "Epoch [4300/10000], Loss: 46225469440.0000\n",
      "Epoch [4400/10000], Loss: 45987336192.0000\n",
      "Epoch [4500/10000], Loss: 45591810048.0000\n",
      "Epoch [4600/10000], Loss: 45220220928.0000\n",
      "Epoch [4700/10000], Loss: 44883861504.0000\n",
      "Epoch [4800/10000], Loss: 44587601920.0000\n",
      "Epoch [4900/10000], Loss: 44337577984.0000\n",
      "Epoch [5000/10000], Loss: 44107878400.0000\n",
      "Epoch [5100/10000], Loss: 43847045120.0000\n",
      "Epoch [5200/10000], Loss: 43621380096.0000\n",
      "Epoch [5300/10000], Loss: 43373158400.0000\n",
      "Epoch [5400/10000], Loss: 43120513024.0000\n",
      "Epoch [5500/10000], Loss: 42861101056.0000\n",
      "Epoch [5600/10000], Loss: 42643324928.0000\n",
      "Epoch [5700/10000], Loss: 42464411648.0000\n",
      "Epoch [5800/10000], Loss: 42216116224.0000\n",
      "Epoch [5900/10000], Loss: 42031067136.0000\n",
      "Epoch [6000/10000], Loss: 41830445056.0000\n",
      "Epoch [6100/10000], Loss: 41562030080.0000\n",
      "Epoch [6200/10000], Loss: 41326915584.0000\n",
      "Epoch [6300/10000], Loss: 41112829952.0000\n",
      "Epoch [6400/10000], Loss: 40910831616.0000\n",
      "Epoch [6500/10000], Loss: 40634191872.0000\n",
      "Epoch [6600/10000], Loss: 40523169792.0000\n",
      "Epoch [6700/10000], Loss: 40383111168.0000\n",
      "Epoch [6800/10000], Loss: 39922286592.0000\n",
      "Epoch [6900/10000], Loss: 39598923776.0000\n",
      "Epoch [7000/10000], Loss: 39472263168.0000\n",
      "Epoch [7100/10000], Loss: 39352713216.0000\n",
      "Epoch [7200/10000], Loss: 39000961024.0000\n",
      "Epoch [7300/10000], Loss: 38665441280.0000\n",
      "Epoch [7400/10000], Loss: 38737874944.0000\n",
      "Epoch [7500/10000], Loss: 38354628608.0000\n",
      "Epoch [7600/10000], Loss: 38295937024.0000\n",
      "Epoch [7700/10000], Loss: 37754859520.0000\n",
      "Epoch [7800/10000], Loss: 37602029568.0000\n",
      "Epoch [7900/10000], Loss: 37461696512.0000\n",
      "Epoch [8000/10000], Loss: 37066539008.0000\n",
      "Epoch [8100/10000], Loss: 36902154240.0000\n",
      "Epoch [8200/10000], Loss: 36842209280.0000\n",
      "Epoch [8300/10000], Loss: 36416307200.0000\n",
      "Epoch [8400/10000], Loss: 36047646720.0000\n",
      "Epoch [8500/10000], Loss: 35837992960.0000\n",
      "Epoch [8600/10000], Loss: 35729231872.0000\n",
      "Epoch [8700/10000], Loss: 35475386368.0000\n",
      "Epoch [8800/10000], Loss: 35369574400.0000\n",
      "Epoch [8900/10000], Loss: 35494096896.0000\n",
      "Epoch [9000/10000], Loss: 35115139072.0000\n",
      "Epoch [9100/10000], Loss: 34841702400.0000\n",
      "Epoch [9200/10000], Loss: 34876190720.0000\n",
      "Epoch [9300/10000], Loss: 35040575488.0000\n",
      "Epoch [9400/10000], Loss: 34563854336.0000\n",
      "Epoch [9500/10000], Loss: 34428948480.0000\n",
      "Epoch [9600/10000], Loss: 34177808384.0000\n",
      "Epoch [9700/10000], Loss: 34110556160.0000\n",
      "Epoch [9800/10000], Loss: 34026489856.0000\n",
      "Epoch [9900/10000], Loss: 34148427776.0000\n",
      "Epoch [10000/10000], Loss: 33831575552.0000\n"
     ]
    }
   ],
   "source": [
    "# Train the model\n",
    "num_epochs = 10000\n",
    "for epoch in range(num_epochs):\n",
    "    # Forward pass\n",
    "    outputs = model(X_train_tensor)\n",
    "    loss = criterion(outputs, y_train_tensor.view(-1, 1))\n",
    "    \n",
    "    # Backward pass and optimization\n",
    "    optimizer.zero_grad()\n",
    "    loss.backward()\n",
    "    optimizer.step()\n",
    "    \n",
    "    if (epoch+1) % 100 == 0:\n",
    "        print(f'Epoch [{epoch+1}/{num_epochs}], Loss: {loss.item():.4f}')\n"
   ]
  },
  {
   "cell_type": "code",
   "execution_count": 11,
   "metadata": {},
   "outputs": [
    {
     "name": "stdout",
     "output_type": "stream",
     "text": [
      "Test Loss: 36958650368.0000\n"
     ]
    }
   ],
   "source": [
    "# Evaluate the model on the testing set\n",
    "with torch.no_grad():\n",
    "    model.eval()\n",
    "    y_pred = model(X_test_tensor)\n",
    "    test_loss = criterion(y_pred, y_test_tensor.view(-1, 1))\n",
    "    print(f'Test Loss: {test_loss.item():.4f}')\n"
   ]
  },
  {
   "cell_type": "code",
   "execution_count": 12,
   "metadata": {},
   "outputs": [],
   "source": [
    "# # Move tensors back to CPU\n",
    "y_pred = y_pred.cpu()\n",
    "y_test_tensor = y_test_tensor.cpu()\n"
   ]
  },
  {
   "cell_type": "code",
   "execution_count": 13,
   "metadata": {},
   "outputs": [
    {
     "name": "stdout",
     "output_type": "stream",
     "text": [
      "MAE: 129263.2734\n",
      "MSE: 36958650368.0000\n",
      "RMSE: 192246.3281\n",
      "VarScore: 0.6800\n"
     ]
    }
   ],
   "source": [
    "# Check model performance\n",
    "print(f'MAE: {metrics.mean_absolute_error(y_test_tensor.numpy(), y_pred.numpy()):.4f}')\n",
    "print(f'MSE: {metrics.mean_squared_error(y_test_tensor.numpy(), y_pred.numpy()):.4f}')\n",
    "print(f'RMSE: {metrics.mean_squared_error(y_test_tensor.numpy(), y_pred.numpy(), squared=False):.4f}')\n",
    "print(f'VarScore: {metrics.explained_variance_score(y_test_tensor.numpy(), y_pred.numpy()):.4f}')"
   ]
  },
  {
   "cell_type": "code",
   "execution_count": 14,
   "metadata": {},
   "outputs": [
    {
     "name": "stdout",
     "output_type": "stream",
     "text": [
      "[399125 553616 543528 ... 659376 258223 635726]\n"
     ]
    }
   ],
   "source": [
    "# Make predictions\n",
    "predictions = np.round(y_pred.numpy().flatten()).astype(int)\n",
    "print(predictions)\n"
   ]
  },
  {
   "cell_type": "code",
   "execution_count": 15,
   "metadata": {},
   "outputs": [
    {
     "name": "stdout",
     "output_type": "stream",
     "text": [
      "Model saved successfully at: models/house_price_model.pth\n"
     ]
    }
   ],
   "source": [
    "# Save the model\n",
    "model_path = \"models/house_price_model.pth\"\n",
    "torch.save(model.state_dict(), model_path)\n",
    "print(\"Model saved successfully at:\", model_path)\n"
   ]
  },
  {
   "cell_type": "code",
   "execution_count": 16,
   "metadata": {},
   "outputs": [
    {
     "name": "stdout",
     "output_type": "stream",
     "text": [
      "Model is trained on GPU.\n"
     ]
    }
   ],
   "source": [
    "# Check the device where the model parameters are located\n",
    "device = next(model.parameters()).device\n",
    "\n",
    "if device.type == 'cuda':\n",
    "    print(\"Model is trained on GPU.\")\n",
    "else:\n",
    "    print(\"Model is trained on CPU.\")\n"
   ]
  }
 ],
 "metadata": {
  "kernelspec": {
   "display_name": "pt",
   "language": "python",
   "name": "python3"
  },
  "language_info": {
   "codemirror_mode": {
    "name": "ipython",
    "version": 3
   },
   "file_extension": ".py",
   "mimetype": "text/x-python",
   "name": "python",
   "nbconvert_exporter": "python",
   "pygments_lexer": "ipython3",
   "version": "3.11.5"
  }
 },
 "nbformat": 4,
 "nbformat_minor": 2
}
