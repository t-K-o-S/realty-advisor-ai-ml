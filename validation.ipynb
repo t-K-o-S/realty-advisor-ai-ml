{
 "cells": [
  {
   "cell_type": "code",
   "execution_count": 1,
   "metadata": {},
   "outputs": [],
   "source": [
    "# Import libraries\n",
    "import pandas as pd\n",
    "import numpy as np\n",
    "import matplotlib.pyplot as plt\n",
    "import torch\n",
    "import torch.nn as nn\n",
    "from sklearn import metrics\n"
   ]
  },
  {
   "cell_type": "code",
   "execution_count": 2,
   "metadata": {},
   "outputs": [],
   "source": [
    "# Select the device to use for processing\n",
    "device = torch.device(\"cuda\" if torch.cuda.is_available() else \"cpu\")\n"
   ]
  },
  {
   "cell_type": "code",
   "execution_count": 3,
   "metadata": {},
   "outputs": [],
   "source": [
    "# Load the validation dataset\n",
    "val_data = pd.read_csv(\"datasets/val_dataset.csv\")\n"
   ]
  },
  {
   "cell_type": "code",
   "execution_count": 4,
   "metadata": {},
   "outputs": [],
   "source": [
    "# Prepare input features and target variable\n",
    "X_val = val_data.drop(\"Price\", axis=1).values\n",
    "y_val = val_data[\"Price\"].values\n",
    "X_val_tensor = torch.tensor(X_val, dtype=torch.float32).to(device)\n",
    "y_val_tensor = torch.tensor(y_val, dtype=torch.float32).to(device)\n"
   ]
  },
  {
   "cell_type": "code",
   "execution_count": 5,
   "metadata": {},
   "outputs": [],
   "source": [
    "# Define the neural network model\n",
    "class HousePriceModel(nn.Module):\n",
    "    def __init__(self, input_size):\n",
    "        super(HousePriceModel, self).__init__()\n",
    "        self.fc1 = nn.Linear(17, 17)\n",
    "        self.fc2 = nn.Linear(17, 17)\n",
    "        self.fc3 = nn.Linear(17, 17)\n",
    "        self.fc4 = nn.Linear(17, 17)\n",
    "        self.fc5 = nn.Linear(17, 1)\n",
    "\n",
    "    def forward(self, x):\n",
    "        x = torch.relu(self.fc1(x))\n",
    "        x = torch.relu(self.fc2(x))\n",
    "        x = torch.relu(self.fc3(x))\n",
    "        x = torch.relu(self.fc4(x))\n",
    "        x = self.fc5(x)\n",
    "        return x\n",
    "    "
   ]
  },
  {
   "cell_type": "code",
   "execution_count": 6,
   "metadata": {},
   "outputs": [],
   "source": [
    "# Define input size\n",
    "input_size = X_val.shape[1]\n"
   ]
  },
  {
   "cell_type": "code",
   "execution_count": 7,
   "metadata": {},
   "outputs": [
    {
     "data": {
      "text/plain": [
       "HousePriceModel(\n",
       "  (fc1): Linear(in_features=17, out_features=17, bias=True)\n",
       "  (fc2): Linear(in_features=17, out_features=17, bias=True)\n",
       "  (fc3): Linear(in_features=17, out_features=17, bias=True)\n",
       "  (fc4): Linear(in_features=17, out_features=17, bias=True)\n",
       "  (fc5): Linear(in_features=17, out_features=1, bias=True)\n",
       ")"
      ]
     },
     "execution_count": 7,
     "metadata": {},
     "output_type": "execute_result"
    }
   ],
   "source": [
    "# Load the trained model\n",
    "model = HousePriceModel(input_size).to(device)\n",
    "model.load_state_dict(torch.load(\"models/house_price_model.pth\"))\n",
    "model.eval()\n"
   ]
  },
  {
   "cell_type": "code",
   "execution_count": 8,
   "metadata": {},
   "outputs": [],
   "source": [
    "# Make predictions\n",
    "with torch.no_grad():\n",
    "    y_val_pred = model(X_val_tensor)\n"
   ]
  },
  {
   "cell_type": "code",
   "execution_count": 9,
   "metadata": {},
   "outputs": [],
   "source": [
    "# # Move tensors back to CPU\n",
    "y_val_pred = y_val_pred.cpu()\n"
   ]
  },
  {
   "cell_type": "code",
   "execution_count": 10,
   "metadata": {},
   "outputs": [],
   "source": [
    "# Convert predictions to numpy array\n",
    "predictions = np.round(y_val_pred.numpy().flatten()).astype(int)\n"
   ]
  },
  {
   "cell_type": "code",
   "execution_count": 11,
   "metadata": {},
   "outputs": [
    {
     "name": "stdout",
     "output_type": "stream",
     "text": [
      "Actual vs Predicted Prices:\n",
      "      Actual Price  Predicted Price\n",
      "0           235000           391259\n",
      "1           208000           350653\n",
      "2           319000           444851\n",
      "3           787000           344994\n",
      "4           500000           418851\n",
      "...            ...              ...\n",
      "2919        219900           218306\n",
      "2920        765000           893368\n",
      "2921        349000           432271\n",
      "2922        705000           566241\n",
      "2923        292000           434876\n",
      "\n",
      "[2924 rows x 2 columns]\n"
     ]
    }
   ],
   "source": [
    "# Print actual vs predicted prices\n",
    "results_df = pd.DataFrame({'Actual Price': y_val, 'Predicted Price': predictions})\n",
    "print(\"Actual vs Predicted Prices:\")\n",
    "print(results_df)\n"
   ]
  },
  {
   "cell_type": "code",
   "execution_count": 12,
   "metadata": {},
   "outputs": [
    {
     "name": "stdout",
     "output_type": "stream",
     "text": [
      "MAE: 131971.6443\n",
      "MSE: 40078356296.0814\n",
      "RMSE: 200195.7949\n",
      "VarScore: 0.7267\n"
     ]
    }
   ],
   "source": [
    "# Check model performance\n",
    "print(f'MAE: {metrics.mean_absolute_error(y_val, predictions):.4f}')\n",
    "print(f'MSE: {metrics.mean_squared_error(y_val, predictions):.4f}')\n",
    "print(f'RMSE: {metrics.mean_squared_error(y_val, predictions, squared=False):.4f}')\n",
    "print(f'VarScore: {metrics.explained_variance_score(y_val, predictions):.4f}')\n"
   ]
  },
  {
   "cell_type": "code",
   "execution_count": 13,
   "metadata": {},
   "outputs": [
    {
     "data": {
      "text/plain": [
       "[<matplotlib.lines.Line2D at 0x7f39f25ad4d0>]"
      ]
     },
     "execution_count": 13,
     "metadata": {},
     "output_type": "execute_result"
    },
    {
     "data": {
      "image/png": "[encoded data removed]",
      "text/plain": [
       "<Figure size 1000x500 with 1 Axes>"
      ]
     },
     "metadata": {},
     "output_type": "display_data"
    }
   ],
   "source": [
    "# Visualizing Our predictions\n",
    "fig = plt.figure(figsize=(10,5))\n",
    "plt.scatter(y_val, predictions)\n",
    "plt.plot(y_val, y_val,'r')\n"
   ]
  },
  {
   "cell_type": "code",
   "execution_count": 14,
   "metadata": {},
   "outputs": [
    {
     "name": "stdout",
     "output_type": "stream",
     "text": [
      "Model is trained on GPU.\n"
     ]
    }
   ],
   "source": [
    "# Check the device where the model parameters are located\n",
    "device = next(model.parameters()).device\n",
    "\n",
    "if device.type == 'cuda':\n",
    "    print(\"Model is trained on GPU.\")\n",
    "else:\n",
    "    print(\"Model is trained on CPU.\")\n",
    "    "
   ]
  }
 ],
 "metadata": {
  "kernelspec": {
   "display_name": "pt",
   "language": "python",
   "name": "python3"
  },
  "language_info": {
   "codemirror_mode": {
    "name": "ipython",
    "version": 3
   },
   "file_extension": ".py",
   "mimetype": "text/x-python",
   "name": "python",
   "nbconvert_exporter": "python",
   "pygments_lexer": "ipython3",
   "version": "3.11.5"
  }
 },
 "nbformat": 4,
 "nbformat_minor": 2
}
