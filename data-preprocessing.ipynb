{
 "cells": [
  {
   "cell_type": "code",
   "execution_count": 1,
   "metadata": {},
   "outputs": [],
   "source": [
    "# Import libraries\n",
    "import pandas as pd\n",
    "from sklearn.model_selection import train_test_split\n"
   ]
  },
  {
   "cell_type": "code",
   "execution_count": 2,
   "metadata": {},
   "outputs": [],
   "source": [
    "# Load the dataset\n",
    "data = pd.read_csv(\"datasets/dataset.csv\")\n"
   ]
  },
  {
   "cell_type": "code",
   "execution_count": 3,
   "metadata": {},
   "outputs": [],
   "source": [
    "# Drop irrelevant features\n",
    "data.drop(['id', 'Date', 'Postal Code', 'Lattitude', 'Longitude'], axis=1, inplace=True)\n"
   ]
  },
  {
   "cell_type": "code",
   "execution_count": 4,
   "metadata": {},
   "outputs": [],
   "source": [
    "# Convert float features to integers\n",
    "float_to_int_cols = ['number of bedrooms', 'number of bathrooms', 'number of floors']\n",
    "data[float_to_int_cols] = data[float_to_int_cols].astype(int)\n"
   ]
  },
  {
   "cell_type": "code",
   "execution_count": 5,
   "metadata": {},
   "outputs": [],
   "source": [
    "# Convert categorical features to integers if not already\n",
    "categorical_cols = ['waterfront present', 'number of views', 'condition of the house', 'grade of the house', 'Number of schools nearby']\n",
    "for col in categorical_cols:\n",
    "    if data[col].dtype != 'int64':\n",
    "        data[col] = data[col].astype('category').cat.codes\n",
    "        "
   ]
  },
  {
   "cell_type": "code",
   "execution_count": 6,
   "metadata": {},
   "outputs": [],
   "source": [
    "# Convert 'Built Year' and 'Renovation Year' to integers\n",
    "data['Built Year'] = data['Built Year'].astype(int)\n",
    "data['Renovation Year'] = data['Renovation Year'].astype(int)\n"
   ]
  },
  {
   "cell_type": "code",
   "execution_count": 7,
   "metadata": {},
   "outputs": [],
   "source": [
    "# Scaling numeric features using Min-Max scaling\n",
    "#scaler = MinMaxScaler()\n",
    "#numeric_cols = ['living area', 'lot area', 'Area of the house(excluding basement)', 'Area of the basement', 'living_area_renov', 'lot_area_renov', 'Distance from the airport', 'Price']\n",
    "#data[numeric_cols] = scaler.fit_transform(data[numeric_cols])\n"
   ]
  },
  {
   "cell_type": "code",
   "execution_count": 8,
   "metadata": {},
   "outputs": [],
   "source": [
    "# Split features and target variable\n",
    "X = data.drop(\"Price\", axis=1)\n",
    "y = data[\"Price\"]\n"
   ]
  },
  {
   "cell_type": "code",
   "execution_count": 9,
   "metadata": {},
   "outputs": [],
   "source": [
    "# Split data into training and validation sets\n",
    "X_train, X_val, y_train, y_val = train_test_split(X, y, test_size=0.2)\n"
   ]
  },
  {
   "cell_type": "code",
   "execution_count": 10,
   "metadata": {},
   "outputs": [],
   "source": [
    "# Concatenate features and target variable for training and validation sets\n",
    "train_data = pd.concat([X_train, y_train], axis=1)\n",
    "val_data = pd.concat([X_val, y_val], axis=1)\n"
   ]
  },
  {
   "cell_type": "code",
   "execution_count": 11,
   "metadata": {},
   "outputs": [],
   "source": [
    "# Save the training and validation datasets into separate CSV files\n",
    "train_data.to_csv(\"datasets/train_dataset.csv\", index=False)\n",
    "val_data.to_csv(\"datasets/val_dataset.csv\", index=False)\n"
   ]
  }
 ],
 "metadata": {
  "kernelspec": {
   "display_name": "pt",
   "language": "python",
   "name": "python3"
  },
  "language_info": {
   "codemirror_mode": {
    "name": "ipython",
    "version": 3
   },
   "file_extension": ".py",
   "mimetype": "text/x-python",
   "name": "python",
   "nbconvert_exporter": "python",
   "pygments_lexer": "ipython3",
   "version": "3.11.5"
  }
 },
 "nbformat": 4,
 "nbformat_minor": 2
}
